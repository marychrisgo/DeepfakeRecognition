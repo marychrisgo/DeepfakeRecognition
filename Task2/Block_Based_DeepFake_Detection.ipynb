{
 "cells": [
  {
   "cell_type": "markdown",
   "metadata": {
    "id": "P16qHx4PabPG"
   },
   "source": [
    "\n",
    "# Task 1\n"
   ]
  },
  {
   "cell_type": "markdown",
   "metadata": {
    "id": "F3AG-e7gal-s"
   },
   "source": [
    "## Load libraries"
   ]
  },
  {
   "cell_type": "code",
   "execution_count": 1,
   "metadata": {},
   "outputs": [],
   "source": [
    "import os\n",
    "from PIL import Image, ImageDraw\n",
    "from pathlib import Path\n",
    "import numpy as np\n",
    "import glob\n",
    "\n",
    "import math\n",
    "from PIL import Image, ImageChops, ImageEnhance\n",
    "import numpy as np\n",
    "from scipy.fftpack import dct"
   ]
  },
  {
   "cell_type": "markdown",
   "metadata": {},
   "source": [
    "## Feature extraction and image loading functions"
   ]
  },
  {
   "cell_type": "code",
   "execution_count": 2,
   "metadata": {},
   "outputs": [],
   "source": [
    "def dct2(block):\n",
    "    return dct(dct(block.T, norm='ortho').T, norm='ortho')\n",
    "\n",
    "X_blocks = []\n",
    "y_blocks = []\n",
    "\n",
    "def extract_features(img):\n",
    "    img_dct = dct2(np.asarray(img))\n",
    "    features = np.concatenate((\n",
    "        #img_dct[:, :, 0].flatten(), # Each channel\n",
    "        #img_dct[:, :, 1].flatten(),\n",
    "        #img_dct[:, :, 2].flatten(),\n",
    "        img_dct[:, :].flatten(),\n",
    "        #img.histogram(),\n",
    "        dct(img.histogram(), norm='ortho'),\n",
    "        #np.histogram(img_dct[:, :]),\n",
    "    ))\n",
    "    #print(features.shape)\n",
    "    return features\n",
    "\n",
    "def get_crops(img, only_skin, show=False):\n",
    "    \"\"\"\n",
    "    Generator for each crop of image\n",
    "    \"\"\"\n",
    "    \n",
    "    w, h = img.size\n",
    "    cell_w, cell_h = 32, 32;\n",
    "    stride = 16\n",
    "    cols = math.floor((w - cell_w) / stride)\n",
    "    rows = math.floor((h - cell_h) / stride)\n",
    "    \n",
    "    draw = ImageDraw.Draw(img)\n",
    "\n",
    "    for i in range(cols):\n",
    "        for j in range(rows):\n",
    "            left = i * stride\n",
    "            top = j * stride\n",
    "            right = left + cell_w\n",
    "            bottom = top + cell_h\n",
    "\n",
    "            lower = np.array([50, 50, 0], dtype = \"uint8\")\n",
    "            upper = np.array([255, 255, 200], dtype = \"uint8\")\n",
    "            crop = img.crop((left, top, right, bottom))\n",
    "\n",
    "            color = np.asarray(crop).mean(axis=0).mean(axis=0)\n",
    "\n",
    "            condition = ((lower < color) & (color < upper)).all()\n",
    "            \n",
    "            if condition or not only_skin:       \n",
    "                for channel in img.split():\n",
    "                    yield channel.crop((left, top, right, bottom))\n",
    "        \n",
    "def data_iter(dir_name, only_skin):\n",
    "    # Yelds lists of features\n",
    "    videos_names = os.listdir(dir_name)\n",
    "    for video in videos_names:\n",
    "        video_path = os.path.join(dir_name, video)\n",
    "        video_frames = Path(video_path).glob(\"*.jpg\")\n",
    "        print(\"Processing\", video_path)\n",
    "        for i, frame in enumerate(video_frames):\n",
    "            img = Image.open(frame)\n",
    "            for crop in get_crops(img, only_skin=only_skin, show=(i==0)):\n",
    "                yield extract_features(crop)"
   ]
  },
  {
   "cell_type": "markdown",
   "metadata": {},
   "source": [
    "## Load training dataset and extract features"
   ]
  },
  {
   "cell_type": "code",
   "execution_count": 3,
   "metadata": {
    "colab": {
     "base_uri": "https://localhost:8080/"
    },
    "id": "AOvGRYliXj2e",
    "outputId": "134eecf4-4b6a-445e-fe0c-b3bd2ce72404",
    "scrolled": true
   },
   "outputs": [
    {
     "name": "stdout",
     "output_type": "stream",
     "text": [
      "Dataset is ready !\n",
      "Processing Task_1_cropped/development/real/0021\n",
      "Processing Task_1_cropped/development/real/0023\n",
      "Processing Task_1_cropped/development/real/0034\n",
      "Processing Task_1_cropped/development/real/0006\n",
      "Processing Task_1_cropped/development/real/0015\n",
      "Processing Task_1_cropped/development/real/0018\n",
      "Processing Task_1_cropped/development/real/0002\n",
      "Processing Task_1_cropped/development/real/0019\n",
      "Processing Task_1_cropped/development/real/0038\n",
      "Processing Task_1_cropped/development/real/0003\n",
      "Processing Task_1_cropped/development/real/0012\n",
      "Processing Task_1_cropped/development/real/0008\n",
      "Processing Task_1_cropped/development/real/0007\n",
      "Processing Task_1_cropped/development/real/0031\n",
      "Processing Task_1_cropped/development/real/0004\n",
      "Processing Task_1_cropped/development/real/0026\n",
      "Processing Task_1_cropped/development/real/0028\n",
      "Processing Task_1_cropped/development/real/0024\n",
      "Processing Task_1_cropped/development/real/0022\n",
      "Processing Task_1_cropped/development/real/0025\n",
      "Processing Task_1_cropped/development/real/0033\n",
      "Processing Task_1_cropped/development/real/0010\n",
      "Processing Task_1_cropped/development/real/0036\n",
      "Processing Task_1_cropped/development/real/0037\n",
      "Processing Task_1_cropped/development/real/0027\n",
      "Processing Task_1_cropped/development/real/0009\n",
      "Processing Task_1_cropped/development/real/0005\n",
      "Processing Task_1_cropped/development/real/0014\n",
      "Processing Task_1_cropped/development/real/0011\n",
      "Processing Task_1_cropped/development/real/0016\n",
      "Processing Task_1_cropped/development/real/0039\n",
      "Processing Task_1_cropped/development/real/0017\n",
      "Processing Task_1_cropped/development/real/0030\n",
      "Processing Task_1_cropped/development/real/0029\n",
      "Processing Task_1_cropped/development/real/0035\n",
      "Processing Task_1_cropped/development/real/0020\n",
      "Processing Task_1_cropped/development/real/0001\n",
      "Processing Task_1_cropped/development/real/0013\n",
      "Processing Task_1_cropped/development/fake/0026_fake\n",
      "Processing Task_1_cropped/development/fake/0017_fake\n",
      "Processing Task_1_cropped/development/fake/0039_fake\n",
      "Processing Task_1_cropped/development/fake/0023_fake\n",
      "Processing Task_1_cropped/development/fake/0019_fake\n",
      "Processing Task_1_cropped/development/fake/0025_fake\n",
      "Processing Task_1_cropped/development/fake/0030_fake\n",
      "Processing Task_1_cropped/development/fake/0028_fake\n",
      "Processing Task_1_cropped/development/fake/0007_fake\n",
      "Processing Task_1_cropped/development/fake/0005_fake\n",
      "Processing Task_1_cropped/development/fake/0020_fake\n",
      "Processing Task_1_cropped/development/fake/0001_fake\n",
      "Processing Task_1_cropped/development/fake/0038_fake\n",
      "Processing Task_1_cropped/development/fake/0004_fake\n",
      "Processing Task_1_cropped/development/fake/0024_fake\n",
      "Processing Task_1_cropped/development/fake/0035_fake\n",
      "Processing Task_1_cropped/development/fake/0031_fake\n",
      "Processing Task_1_cropped/development/fake/0029_fake\n",
      "Processing Task_1_cropped/development/fake/0037_fake\n",
      "Processing Task_1_cropped/development/fake/0006_fake\n",
      "Processing Task_1_cropped/development/fake/0013_fake\n",
      "Processing Task_1_cropped/development/fake/0034_fake\n",
      "Processing Task_1_cropped/development/fake/0027_fake\n",
      "Processing Task_1_cropped/development/fake/0018_fake\n",
      "Processing Task_1_cropped/development/fake/0012_fake\n",
      "Processing Task_1_cropped/development/fake/0014_fake\n",
      "Processing Task_1_cropped/development/fake/0015_fake\n",
      "Processing Task_1_cropped/development/fake/0021_fake\n",
      "Processing Task_1_cropped/development/fake/0036_fake\n",
      "Processing Task_1_cropped/development/fake/0033_fake\n",
      "Processing Task_1_cropped/development/fake/0016_fake\n",
      "Processing Task_1_cropped/development/fake/0003_fake\n",
      "Processing Task_1_cropped/development/fake/0022_fake\n",
      "Processing Task_1_cropped/development/fake/0002_fake\n",
      "Processing Task_1_cropped/development/fake/0011_fake\n",
      "Processing Task_1_cropped/development/fake/0010_fake\n",
      "Processing Task_1_cropped/development/fake/0009_fake\n",
      "Processing Task_1_cropped/development/fake/0008_fake\n"
     ]
    }
   ],
   "source": [
    "proj_dir = \"/home/mbernardi/extra/async/ipcv/pdbr/labs/4/\"\n",
    "db_dir = 'Task_1_cropped'\n",
    "train_dir = 'development'\n",
    "test_dir = 'evaluation'\n",
    "\n",
    "# Enter Project Directory\n",
    "os.chdir(proj_dir)\n",
    "\n",
    "# Extract dataset images\n",
    "if os.path.exists(db_dir) :\n",
    "    print(\"Dataset is ready !\")\n",
    "\n",
    "# Load Development Videos\n",
    "real_dir = os.path.join(db_dir,train_dir,'real')\n",
    "fake_dir = os.path.join(db_dir,train_dir,'fake')\n",
    "\n",
    "X = list(data_iter(real_dir, only_skin=True))\n",
    "y = [1] * len(X)\n",
    "\n",
    "X.extend(data_iter(fake_dir, only_skin=True))\n",
    "y.extend([0] * (len(X) - len(y)))"
   ]
  },
  {
   "cell_type": "code",
   "execution_count": 4,
   "metadata": {
    "colab": {
     "base_uri": "https://localhost:8080/"
    },
    "id": "pQqjoECKkl7-",
    "outputId": "284c7ca0-88fd-4574-a053-236ec48dd35e"
   },
   "outputs": [],
   "source": [
    "X_blocks = np.array(X)\n",
    "del X\n",
    "y_blocks = np.array(y)\n",
    "del y\n",
    "\n",
    "rng = np.random.default_rng(1234)\n",
    "rng.shuffle(X_blocks)\n",
    "rng = np.random.default_rng(1234)\n",
    "rng.shuffle(y_blocks)"
   ]
  },
  {
   "cell_type": "code",
   "execution_count": 5,
   "metadata": {
    "id": "98g2DW0zu0U1"
   },
   "outputs": [
    {
     "data": {
      "text/plain": [
       "(232383, 1280)"
      ]
     },
     "execution_count": 5,
     "metadata": {},
     "output_type": "execute_result"
    }
   ],
   "source": [
    "X_blocks.shape"
   ]
  },
  {
   "cell_type": "markdown",
   "metadata": {},
   "source": [
    "## Define and train the network"
   ]
  },
  {
   "cell_type": "code",
   "execution_count": 6,
   "metadata": {
    "id": "cYc68lVSu8Ym"
   },
   "outputs": [],
   "source": [
    "import tensorflow as tf\n",
    "from tensorflow import keras\n",
    "\n",
    "import tensorflow.keras as k\n",
    "from tensorflow.keras.models import Sequential\n",
    "from tensorflow.keras.layers import Dense\n",
    "\n",
    "from sklearn.preprocessing import StandardScaler\n",
    "from sklearn.model_selection import train_test_split"
   ]
  },
  {
   "cell_type": "code",
   "execution_count": 7,
   "metadata": {},
   "outputs": [],
   "source": [
    "# Split the dataset\n",
    "\n",
    "BATCH_SIZE = 64\n",
    "SHUFFLE_BUFFER_SIZE = 100\n",
    "dataset_size = X_blocks.shape[0]\n",
    "\n",
    "dataset = tf.data.Dataset.from_tensor_slices((X_blocks, y_blocks)).shuffle(SHUFFLE_BUFFER_SIZE)\n",
    "del X_blocks\n",
    "del y_blocks\n",
    "\n",
    "train_size = int(0.8 * dataset_size)\n",
    "val_size = int(0.2 * dataset_size)\n",
    "\n",
    "train_dataset = dataset.take(train_size).batch(BATCH_SIZE)\n",
    "val_dataset = dataset.skip(train_size).batch(BATCH_SIZE)"
   ]
  },
  {
   "cell_type": "code",
   "execution_count": 8,
   "metadata": {
    "scrolled": false
   },
   "outputs": [
    {
     "name": "stdout",
     "output_type": "stream",
     "text": [
      "Epoch 1/8\n",
      "2905/2905 [==============================] - 49s 16ms/step - loss: 0.2064 - binary_accuracy: 0.6619 - val_loss: 0.1424 - val_binary_accuracy: 0.7836\n",
      "Epoch 2/8\n",
      "2905/2905 [==============================] - 52s 18ms/step - loss: 0.1325 - binary_accuracy: 0.8022 - val_loss: 0.1317 - val_binary_accuracy: 0.8029\n",
      "Epoch 3/8\n",
      "2905/2905 [==============================] - 44s 15ms/step - loss: 0.0981 - binary_accuracy: 0.8605 - val_loss: 0.1236 - val_binary_accuracy: 0.8206\n",
      "Epoch 4/8\n",
      "2905/2905 [==============================] - 52s 18ms/step - loss: 0.0772 - binary_accuracy: 0.8941 - val_loss: 0.1255 - val_binary_accuracy: 0.8277\n",
      "Epoch 5/8\n",
      "2905/2905 [==============================] - 50s 17ms/step - loss: 0.0627 - binary_accuracy: 0.9172 - val_loss: 0.1282 - val_binary_accuracy: 0.8304\n",
      "Epoch 6/8\n",
      "2905/2905 [==============================] - 52s 18ms/step - loss: 0.0541 - binary_accuracy: 0.9298 - val_loss: 0.1260 - val_binary_accuracy: 0.8347\n",
      "Epoch 7/8\n",
      "2905/2905 [==============================] - 45s 15ms/step - loss: 0.0475 - binary_accuracy: 0.9380 - val_loss: 0.1260 - val_binary_accuracy: 0.8371\n",
      "Epoch 8/8\n",
      "2905/2905 [==============================] - 46s 16ms/step - loss: 0.0425 - binary_accuracy: 0.9460 - val_loss: 0.1285 - val_binary_accuracy: 0.8353\n"
     ]
    }
   ],
   "source": [
    "#opt = keras.optimizers.Adam(learning_rate=0.001)\n",
    "opt = 'rmsprop'\n",
    "metric = tf.keras.metrics.BinaryAccuracy()\n",
    "loss = tf.keras.losses.MeanSquaredError()\n",
    "\n",
    "nn = Sequential()\n",
    "\n",
    "nn.add(tf.keras.layers.BatchNormalization())\n",
    "nn.add(tf.keras.layers.Dense(500, activation='relu'))\n",
    "nn.add(tf.keras.layers.Dense(100, activation='relu'))\n",
    "nn.add(tf.keras.layers.Dense(100, activation='relu'))\n",
    "nn.add(tf.keras.layers.Dense(1, activation='sigmoid'))\n",
    "\n",
    "nn.compile(loss=loss, optimizer=opt, metrics=[metric])\n",
    "history = nn.fit(train_dataset, epochs=8, verbose=1, validation_data=val_dataset)"
   ]
  },
  {
   "cell_type": "markdown",
   "metadata": {},
   "source": [
    "## Evaluate in task 1 training dataset"
   ]
  },
  {
   "cell_type": "code",
   "execution_count": 9,
   "metadata": {},
   "outputs": [
    {
     "name": "stdout",
     "output_type": "stream",
     "text": [
      "Processing Task_1/development/real/0021\n",
      "Processing Task_1/development/real/0023\n",
      "Processing Task_1/development/real/0034\n",
      "Processing Task_1/development/real/0006\n",
      "Processing Task_1/development/real/0015\n",
      "Processing Task_1/development/real/0018\n",
      "Processing Task_1/development/real/0002\n",
      "Processing Task_1/development/real/0019\n",
      "Processing Task_1/development/real/0038\n",
      "Processing Task_1/development/real/0003\n",
      "Processing Task_1/development/real/0012\n",
      "Processing Task_1/development/real/0008\n",
      "Processing Task_1/development/real/0007\n",
      "Processing Task_1/development/real/0031\n",
      "Processing Task_1/development/real/0004\n",
      "Processing Task_1/development/real/0026\n",
      "Processing Task_1/development/real/0028\n",
      "Processing Task_1/development/real/0024\n",
      "Processing Task_1/development/real/0022\n",
      "Processing Task_1/development/real/0025\n",
      "Processing Task_1/development/real/0033\n",
      "Processing Task_1/development/real/0010\n",
      "Processing Task_1/development/real/0036\n",
      "Processing Task_1/development/real/0037\n",
      "Processing Task_1/development/real/0027\n",
      "Processing Task_1/development/real/0009\n",
      "Processing Task_1/development/real/0005\n",
      "Processing Task_1/development/real/0014\n",
      "Processing Task_1/development/real/0011\n",
      "Processing Task_1/development/real/0016\n",
      "Processing Task_1/development/real/0039\n",
      "Processing Task_1/development/real/0017\n",
      "Processing Task_1/development/real/0030\n",
      "Processing Task_1/development/real/0029\n",
      "Processing Task_1/development/real/0035\n",
      "Processing Task_1/development/real/0020\n",
      "Processing Task_1/development/real/0001\n",
      "Processing Task_1/development/real/0013\n",
      "Processing Task_1/development/fake/0026_fake\n",
      "Processing Task_1/development/fake/0017_fake\n",
      "Processing Task_1/development/fake/0039_fake\n",
      "Processing Task_1/development/fake/0023_fake\n",
      "Processing Task_1/development/fake/0019_fake\n",
      "Processing Task_1/development/fake/0025_fake\n",
      "Processing Task_1/development/fake/0030_fake\n",
      "Processing Task_1/development/fake/0028_fake\n",
      "Processing Task_1/development/fake/0007_fake\n",
      "Processing Task_1/development/fake/0005_fake\n",
      "Processing Task_1/development/fake/0020_fake\n",
      "Processing Task_1/development/fake/0001_fake\n",
      "Processing Task_1/development/fake/0038_fake\n",
      "Processing Task_1/development/fake/0004_fake\n",
      "Processing Task_1/development/fake/0024_fake\n",
      "Processing Task_1/development/fake/0035_fake\n",
      "Processing Task_1/development/fake/0031_fake\n",
      "Processing Task_1/development/fake/0029_fake\n",
      "Processing Task_1/development/fake/0037_fake\n",
      "Processing Task_1/development/fake/0006_fake\n",
      "Processing Task_1/development/fake/0013_fake\n",
      "Processing Task_1/development/fake/0034_fake\n",
      "Processing Task_1/development/fake/0027_fake\n",
      "Processing Task_1/development/fake/0018_fake\n",
      "Processing Task_1/development/fake/0012_fake\n",
      "Processing Task_1/development/fake/0014_fake\n",
      "Processing Task_1/development/fake/0015_fake\n",
      "Processing Task_1/development/fake/0021_fake\n",
      "Processing Task_1/development/fake/0036_fake\n",
      "Processing Task_1/development/fake/0033_fake\n",
      "Processing Task_1/development/fake/0016_fake\n",
      "Processing Task_1/development/fake/0003_fake\n",
      "Processing Task_1/development/fake/0022_fake\n",
      "Processing Task_1/development/fake/0002_fake\n",
      "Processing Task_1/development/fake/0011_fake\n",
      "Processing Task_1/development/fake/0010_fake\n",
      "Processing Task_1/development/fake/0009_fake\n",
      "Processing Task_1/development/fake/0008_fake\n"
     ]
    }
   ],
   "source": [
    "db_dir = 'Task_1'\n",
    "\n",
    "# Load Test Videos\n",
    "real_dir = os.path.join(db_dir,train_dir,'real')\n",
    "fake_dir = os.path.join(db_dir,train_dir,'fake')\n",
    "\n",
    "\n",
    "real_scores = []\n",
    "fake_scores = []\n",
    "\n",
    "# For training Real Images\n",
    "videos_names = os.listdir(real_dir)\n",
    "for video in videos_names:\n",
    "    video_path = os.path.join(real_dir,video)\n",
    "    video_frames = Path(video_path).glob(\"*.jpg\")\n",
    "    print(\"Processing\", video_path)\n",
    "    for frame in video_frames:\n",
    "        X_test = []\n",
    "        img = Image.open(frame)\n",
    "        for crop in get_crops(img, only_skin=False):\n",
    "            X_test.append(extract_features(crop))\n",
    "        X_test = np.array(X_test)\n",
    "        score = np.mean(nn.predict(X_test))\n",
    "        real_scores.append(score)\n",
    "        #real_scores.extend(nn.predict(X_test))\n",
    "\n",
    "# For training Fake Images\n",
    "videos_names = os.listdir(fake_dir)\n",
    "for video in videos_names:\n",
    "    video_path = os.path.join(fake_dir,video)\n",
    "    video_frames = Path(video_path).glob(\"*.jpg\")\n",
    "    print(\"Processing\", video_path)\n",
    "    for frame in video_frames:\n",
    "        X_test = []\n",
    "        img = Image.open(frame)\n",
    "        for crop in get_crops(img, only_skin=False):\n",
    "            X_test.append(extract_features(crop))\n",
    "        X_test = np.array(X_test)\n",
    "        score = np.mean(nn.predict(X_test))\n",
    "        fake_scores.append(score)\n",
    "        #fake_scores.extend(nn.predict(X_test))"
   ]
  },
  {
   "cell_type": "code",
   "execution_count": 10,
   "metadata": {},
   "outputs": [
    {
     "data": {
      "image/png": "[encoded data removed]",
      "text/plain": [
       "<Figure size 432x288 with 1 Axes>"
      ]
     },
     "metadata": {
      "needs_background": "light"
     },
     "output_type": "display_data"
    }
   ],
   "source": [
    "import matplotlib.pyplot as plt\n",
    "\n",
    "bins = np.linspace(0, 1, 50)\n",
    "\n",
    "plt.hist(real_scores, bins, alpha = 0.5, label='real')\n",
    "plt.hist(fake_scores, bins, alpha = 0.5, label='fake')\n",
    "plt.legend(loc='upper left')\n",
    "\n",
    "plt.show()"
   ]
  },
  {
   "cell_type": "code",
   "execution_count": 11,
   "metadata": {
    "scrolled": false
   },
   "outputs": [
    {
     "data": {
      "image/png": "[encoded data removed]",
      "text/plain": [
       "<Figure size 432x288 with 1 Axes>"
      ]
     },
     "metadata": {
      "needs_background": "light"
     },
     "output_type": "display_data"
    },
    {
     "name": "stdout",
     "output_type": "stream",
     "text": [
      "AUC: 0.7953116343490305\n",
      "EER threshold: 0.656273\n",
      "EER: 0.3157894736842105\n",
      "EER: 0.31842105263157894\n"
     ]
    }
   ],
   "source": [
    "import sklearn\n",
    "\n",
    "pred = np.concatenate((\n",
    "    real_scores,\n",
    "    fake_scores,\n",
    "))\n",
    "ground_truth = np.concatenate((\n",
    "    np.ones(len(real_scores)),\n",
    "    np.zeros(len(fake_scores)),\n",
    "))\n",
    "fpr, tpr, thresholds = sklearn.metrics.roc_curve(ground_truth, pred)\n",
    "\n",
    "def plot_roc(fpr, tpr):\n",
    "    plt.plot(fpr, tpr)\n",
    "    plt.plot([0, 1], [0, 1], 'k--')\n",
    "    plt.title('FPR (False Positive rate) vs TPR (True Positive Rate)')\n",
    "    plt.xlabel('False Positive Rate')\n",
    "    plt.ylabel('True Positive Rate (Recall)')\n",
    "    plt.show()\n",
    "    \n",
    "plot_roc(fpr, tpr)\n",
    "\n",
    "print(\"AUC:\", sklearn.metrics.roc_auc_score(ground_truth, pred))\n",
    "\n",
    "fnr = 1 - tpr\n",
    "eer_threshold = thresholds[np.nanargmin(np.absolute((fnr - fpr)))]\n",
    "print(\"EER threshold:\", eer_threshold)\n",
    "\n",
    "\n",
    "eer = fpr[np.nanargmin(np.absolute((fnr - fpr)))]\n",
    "print(\"EER:\", eer)\n",
    "eer = fnr[np.nanargmin(np.absolute((fnr - fpr)))]\n",
    "print(\"EER:\", eer)"
   ]
  },
  {
   "cell_type": "markdown",
   "metadata": {},
   "source": [
    "## Evaluate in task 1 test dataset"
   ]
  },
  {
   "cell_type": "code",
   "execution_count": 12,
   "metadata": {},
   "outputs": [
    {
     "name": "stdout",
     "output_type": "stream",
     "text": [
      "Processing Task_1/evaluation/real/0046\n",
      "Processing Task_1/evaluation/real/0048\n",
      "Processing Task_1/evaluation/real/0000\n",
      "Processing Task_1/evaluation/real/0045\n",
      "Processing Task_1/evaluation/real/0047\n",
      "Processing Task_1/evaluation/real/0043\n",
      "Processing Task_1/evaluation/real/0032\n",
      "Processing Task_1/evaluation/real/0044\n",
      "Processing Task_1/evaluation/real/0042\n",
      "Processing Task_1/evaluation/real/0041\n",
      "Processing Task_1/evaluation/real/0040\n",
      "Processing Task_1/evaluation/fake/0041_fake\n",
      "Processing Task_1/evaluation/fake/0032_fake\n",
      "Processing Task_1/evaluation/fake/0046_fake\n",
      "Processing Task_1/evaluation/fake/0047_fake\n",
      "Processing Task_1/evaluation/fake/0048_fake\n",
      "Processing Task_1/evaluation/fake/0040_fake\n",
      "Processing Task_1/evaluation/fake/0000_fake\n",
      "Processing Task_1/evaluation/fake/0042_fake\n",
      "Processing Task_1/evaluation/fake/0045_fake\n",
      "Processing Task_1/evaluation/fake/0044_fake\n"
     ]
    }
   ],
   "source": [
    "db_dir = 'Task_1'\n",
    "\n",
    "# Load Test Videos\n",
    "real_dir = os.path.join(db_dir,test_dir,'real')\n",
    "fake_dir = os.path.join(db_dir,test_dir,'fake')\n",
    "\n",
    "\n",
    "real_scores = []\n",
    "fake_scores = []\n",
    "\n",
    "# For training Real Images\n",
    "videos_names = os.listdir(real_dir)\n",
    "for video in videos_names:\n",
    "    video_path = os.path.join(real_dir,video)\n",
    "    video_frames = Path(video_path).glob(\"*.jpg\")\n",
    "    print(\"Processing\", video_path)\n",
    "    for frame in video_frames:\n",
    "        X_test = []\n",
    "        img = Image.open(frame)\n",
    "        for crop in get_crops(img, only_skin=False):\n",
    "            X_test.append(extract_features(crop))\n",
    "        X_test = np.array(X_test)\n",
    "        score = np.mean(nn.predict(X_test))\n",
    "        real_scores.append(score)\n",
    "        #real_scores.extend(nn.predict(X_test))\n",
    "\n",
    "# For training Fake Images\n",
    "videos_names = os.listdir(fake_dir)\n",
    "for video in videos_names:\n",
    "    video_path = os.path.join(fake_dir,video)\n",
    "    video_frames = Path(video_path).glob(\"*.jpg\")\n",
    "    print(\"Processing\", video_path)\n",
    "    for frame in video_frames:\n",
    "        X_test = []\n",
    "        img = Image.open(frame)\n",
    "        for crop in get_crops(img, only_skin=False):\n",
    "            X_test.append(extract_features(crop))\n",
    "        X_test = np.array(X_test)\n",
    "        score = np.mean(nn.predict(X_test))\n",
    "        fake_scores.append(score)\n",
    "        #fake_scores.extend(nn.predict(X_test))"
   ]
  },
  {
   "cell_type": "code",
   "execution_count": 13,
   "metadata": {},
   "outputs": [
    {
     "data": {
      "image/png": "[encoded data removed]",
      "text/plain": [
       "<Figure size 432x288 with 1 Axes>"
      ]
     },
     "metadata": {
      "needs_background": "light"
     },
     "output_type": "display_data"
    }
   ],
   "source": [
    "import matplotlib.pyplot as plt\n",
    "\n",
    "bins = np.linspace(0, 1, 50)\n",
    "\n",
    "plt.hist(real_scores, bins, alpha = 0.5, label='real')\n",
    "plt.hist(fake_scores, bins, alpha = 0.5, label='fake')\n",
    "plt.legend(loc='upper left')\n",
    "\n",
    "plt.show()"
   ]
  },
  {
   "cell_type": "code",
   "execution_count": 14,
   "metadata": {
    "scrolled": false
   },
   "outputs": [
    {
     "data": {
      "image/png": "[encoded data removed]",
      "text/plain": [
       "<Figure size 432x288 with 1 Axes>"
      ]
     },
     "metadata": {
      "needs_background": "light"
     },
     "output_type": "display_data"
    },
    {
     "name": "stdout",
     "output_type": "stream",
     "text": [
      "AUC: 0.6503636363636364\n",
      "EER threshold: 0.5911195\n",
      "EER: 0.38\n",
      "EER: 0.36363636363636365\n"
     ]
    }
   ],
   "source": [
    "import sklearn\n",
    "\n",
    "pred = np.concatenate((\n",
    "    real_scores,\n",
    "    fake_scores,\n",
    "))\n",
    "ground_truth = np.concatenate((\n",
    "    np.ones(len(real_scores)),\n",
    "    np.zeros(len(fake_scores)),\n",
    "))\n",
    "fpr, tpr, thresholds = sklearn.metrics.roc_curve(ground_truth, pred)\n",
    "\n",
    "def plot_roc(fpr, tpr):\n",
    "    plt.plot(fpr, tpr)\n",
    "    plt.plot([0, 1], [0, 1], 'k--')\n",
    "    plt.title('FPR (False Positive rate) vs TPR (True Positive Rate)')\n",
    "    plt.xlabel('False Positive Rate')\n",
    "    plt.ylabel('True Positive Rate (Recall)')\n",
    "    plt.show()\n",
    "    \n",
    "plot_roc(fpr, tpr)\n",
    "\n",
    "print(\"AUC:\", sklearn.metrics.roc_auc_score(ground_truth, pred))\n",
    "\n",
    "fnr = 1 - tpr\n",
    "eer_threshold = thresholds[np.nanargmin(np.absolute((fnr - fpr)))]\n",
    "print(\"EER threshold:\", eer_threshold)\n",
    "\n",
    "\n",
    "eer = fpr[np.nanargmin(np.absolute((fnr - fpr)))]\n",
    "print(\"EER:\", eer)\n",
    "eer = fnr[np.nanargmin(np.absolute((fnr - fpr)))]\n",
    "print(\"EER:\", eer)"
   ]
  },
  {
   "cell_type": "markdown",
   "metadata": {},
   "source": [
    "## Evaluate in task 2 dataset"
   ]
  },
  {
   "cell_type": "code",
   "execution_count": 15,
   "metadata": {},
   "outputs": [
    {
     "name": "stdout",
     "output_type": "stream",
     "text": [
      "Processing Task_2_3/evaluation/real/id25_0001\n",
      "Processing Task_2_3/evaluation/real/id34_0008\n",
      "Processing Task_2_3/evaluation/real/id5_0005\n",
      "Processing Task_2_3/evaluation/real/id1_0008\n",
      "Processing Task_2_3/evaluation/real/id36_0003\n",
      "Processing Task_2_3/evaluation/real/id56_0002\n",
      "Processing Task_2_3/evaluation/real/id6_0001\n",
      "Processing Task_2_3/evaluation/real/id42_0004\n",
      "Processing Task_2_3/evaluation/real/id41_0005\n",
      "Processing Task_2_3/evaluation/real/id45_0003\n",
      "Processing Task_2_3/evaluation/real/id12_0003\n",
      "Processing Task_2_3/evaluation/real/id13_0009\n",
      "Processing Task_2_3/evaluation/real/id35_0003\n",
      "Processing Task_2_3/evaluation/real/id0_0003\n",
      "Processing Task_2_3/evaluation/real/id46_0007\n",
      "Processing Task_2_3/evaluation/real/id32_0007\n",
      "Processing Task_2_3/evaluation/real/id44_0005\n",
      "Processing Task_2_3/evaluation/real/id30_0009\n",
      "Processing Task_2_3/evaluation/real/id3_0006\n",
      "Processing Task_2_3/evaluation/real/id10_0001\n",
      "Processing Task_2_3/evaluation/real/id4_0002\n",
      "Processing Task_2_3/evaluation/real/id40_0006\n",
      "Processing Task_2_3/evaluation/real/id58_0003\n",
      "Processing Task_2_3/evaluation/real/id11_0000\n",
      "Processing Task_2_3/evaluation/real/id28_0003\n",
      "Processing Task_2_3/evaluation/real/id47_0007\n",
      "Processing Task_2_3/evaluation/real/id7_0000\n",
      "Processing Task_2_3/evaluation/real/id26_0002\n",
      "Processing Task_2_3/evaluation/real/id59_0002\n",
      "Processing Task_2_3/evaluation/real/id31_0005\n",
      "Processing Task_2_3/evaluation/fake/id9_id0_0001\n",
      "Processing Task_2_3/evaluation/fake/id38_id29_0000\n",
      "Processing Task_2_3/evaluation/fake/id23_id9_0007\n",
      "Processing Task_2_3/evaluation/fake/id2_id20_0009\n",
      "Processing Task_2_3/evaluation/fake/id1_id3_0003\n",
      "Processing Task_2_3/evaluation/fake/id19_id27_0007\n",
      "Processing Task_2_3/evaluation/fake/id25_id20_0008\n",
      "Processing Task_2_3/evaluation/fake/id16_id3_0011\n",
      "Processing Task_2_3/evaluation/fake/id28_id4_0003\n",
      "Processing Task_2_3/evaluation/fake/id8_id7_0008\n",
      "Processing Task_2_3/evaluation/fake/id10_id7_0001\n",
      "Processing Task_2_3/evaluation/fake/id51_id49_0008\n",
      "Processing Task_2_3/evaluation/fake/id49_id55_0009\n",
      "Processing Task_2_3/evaluation/fake/id22_id28_0002\n",
      "Processing Task_2_3/evaluation/fake/id61_id5_0005\n",
      "Processing Task_2_3/evaluation/fake/id26_id20_0001\n",
      "Processing Task_2_3/evaluation/fake/id52_id55_0003\n",
      "Processing Task_2_3/evaluation/fake/id44_id41_0002\n",
      "Processing Task_2_3/evaluation/fake/id17_id6_0001\n",
      "Processing Task_2_3/evaluation/fake/id21_id2_0006\n",
      "Processing Task_2_3/evaluation/fake/id20_id23_0009\n",
      "Processing Task_2_3/evaluation/fake/id29_id23_0003\n",
      "Processing Task_2_3/evaluation/fake/id37_id32_0002\n",
      "Processing Task_2_3/evaluation/fake/id53_id57_0005\n",
      "Processing Task_2_3/evaluation/fake/id39_id40_0000\n",
      "Processing Task_2_3/evaluation/fake/id47_id44_0003\n",
      "Processing Task_2_3/evaluation/fake/id60_id59_0009\n",
      "Processing Task_2_3/evaluation/fake/id0_id2_0001\n",
      "Processing Task_2_3/evaluation/fake/id30_id1_0006\n",
      "Processing Task_2_3/evaluation/fake/id45_id47_0004\n"
     ]
    }
   ],
   "source": [
    "db_dir = 'Task_2_3'\n",
    "\n",
    "# Load Test Videos\n",
    "real_dir = os.path.join(db_dir,test_dir,'real')\n",
    "fake_dir = os.path.join(db_dir,test_dir,'fake')\n",
    "\n",
    "\n",
    "real_scores = []\n",
    "fake_scores = []\n",
    "\n",
    "# For training Real Images\n",
    "videos_names = os.listdir(real_dir)\n",
    "for video in videos_names:\n",
    "    video_path = os.path.join(real_dir,video)\n",
    "    video_frames = Path(video_path).glob(\"*.jpg\")\n",
    "    print(\"Processing\", video_path)\n",
    "    for frame in video_frames:\n",
    "        X_test = []\n",
    "        img = Image.open(frame)\n",
    "        for crop in get_crops(img, only_skin=False):\n",
    "            X_test.append(extract_features(crop))\n",
    "        X_test = np.array(X_test)\n",
    "        score = np.mean(nn.predict(X_test))\n",
    "        real_scores.append(score)\n",
    "        #real_scores.extend(nn.predict(X_test))\n",
    "\n",
    "# For training Fake Images\n",
    "videos_names = os.listdir(fake_dir)\n",
    "for video in videos_names:\n",
    "    video_path = os.path.join(fake_dir,video)\n",
    "    video_frames = Path(video_path).glob(\"*.jpg\")\n",
    "    print(\"Processing\", video_path)\n",
    "    for frame in video_frames:\n",
    "        X_test = []\n",
    "        img = Image.open(frame)\n",
    "        for crop in get_crops(img, only_skin=False):\n",
    "            X_test.append(extract_features(crop))\n",
    "        X_test = np.array(X_test)\n",
    "        score = np.mean(nn.predict(X_test))\n",
    "        fake_scores.append(score)\n",
    "        #fake_scores.extend(nn.predict(X_test))"
   ]
  },
  {
   "cell_type": "code",
   "execution_count": 16,
   "metadata": {},
   "outputs": [
    {
     "data": {
      "image/png": "[encoded data removed]",
      "text/plain": [
       "<Figure size 432x288 with 1 Axes>"
      ]
     },
     "metadata": {
      "needs_background": "light"
     },
     "output_type": "display_data"
    }
   ],
   "source": [
    "import matplotlib.pyplot as plt\n",
    "\n",
    "bins = np.linspace(0, 1, 50)\n",
    "\n",
    "plt.hist(real_scores, bins, alpha = 0.5, label='real')\n",
    "plt.hist(fake_scores, bins, alpha = 0.5, label='fake')\n",
    "plt.legend(loc='upper left')\n",
    "\n",
    "plt.show()"
   ]
  },
  {
   "cell_type": "code",
   "execution_count": 17,
   "metadata": {},
   "outputs": [
    {
     "data": {
      "image/png": "[encoded data removed]",
      "text/plain": [
       "<Figure size 432x288 with 1 Axes>"
      ]
     },
     "metadata": {
      "needs_background": "light"
     },
     "output_type": "display_data"
    },
    {
     "name": "stdout",
     "output_type": "stream",
     "text": [
      "AUC: 0.5738666666666667\n",
      "EER threshold: 0.6638261\n",
      "EER: 0.46\n",
      "EER: 0.4666666666666667\n"
     ]
    }
   ],
   "source": [
    "import sklearn\n",
    "\n",
    "pred = np.concatenate((\n",
    "    real_scores,\n",
    "    fake_scores,\n",
    "))\n",
    "ground_truth = np.concatenate((\n",
    "    np.zeros(len(real_scores)),\n",
    "    np.ones(len(fake_scores)),\n",
    "))\n",
    "fpr, tpr, thresholds = sklearn.metrics.roc_curve(ground_truth, pred)\n",
    "\n",
    "def plot_roc(fpr, tpr):\n",
    "    plt.plot(fpr, tpr)\n",
    "    plt.plot([0, 1], [0, 1], 'k--')\n",
    "    plt.title('FPR (False Positive rate) vs TPR (True Positive Rate)')\n",
    "    plt.xlabel('False Positive Rate')\n",
    "    plt.ylabel('True Positive Rate (Recall)')\n",
    "    plt.show()\n",
    "    \n",
    "plot_roc(fpr, tpr)\n",
    "\n",
    "print(\"AUC:\", sklearn.metrics.roc_auc_score(ground_truth, pred))\n",
    "\n",
    "fnr = 1 - tpr\n",
    "eer_threshold = thresholds[np.nanargmin(np.absolute((fnr - fpr)))]\n",
    "print(\"EER threshold:\", eer_threshold)\n",
    "\n",
    "\n",
    "eer = fpr[np.nanargmin(np.absolute((fnr - fpr)))]\n",
    "print(\"EER:\", eer)\n",
    "eer = fnr[np.nanargmin(np.absolute((fnr - fpr)))]\n",
    "print(\"EER:\", eer)"
   ]
  },
  {
   "cell_type": "code",
   "execution_count": null,
   "metadata": {},
   "outputs": [],
   "source": []
  },
  {
   "cell_type": "code",
   "execution_count": null,
   "metadata": {},
   "outputs": [],
   "source": []
  },
  {
   "cell_type": "code",
   "execution_count": null,
   "metadata": {},
   "outputs": [],
   "source": []
  },
  {
   "cell_type": "code",
   "execution_count": null,
   "metadata": {},
   "outputs": [],
   "source": []
  },
  {
   "cell_type": "code",
   "execution_count": null,
   "metadata": {},
   "outputs": [],
   "source": []
  }
 ],
 "metadata": {
  "colab": {
   "collapsed_sections": [],
   "name": "Block Based DeepFake_Detection.ipynb",
   "provenance": [],
   "toc_visible": true
  },
  "kernelspec": {
   "display_name": "Python 3",
   "language": "python",
   "name": "python3"
  },
  "language_info": {
   "codemirror_mode": {
    "name": "ipython",
    "version": 3
   },
   "file_extension": ".py",
   "mimetype": "text/x-python",
   "name": "python",
   "nbconvert_exporter": "python",
   "pygments_lexer": "ipython3",
   "version": "3.9.2"
  }
 },
 "nbformat": 4,
 "nbformat_minor": 1
}
